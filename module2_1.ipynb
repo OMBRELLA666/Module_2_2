{
  "metadata": {
    "kernelspec": {
      "name": "python",
      "display_name": "Python (Pyodide)",
      "language": "python"
    },
    "language_info": {
      "codemirror_mode": {
        "name": "python",
        "version": 3
      },
      "file_extension": ".py",
      "mimetype": "text/x-python",
      "name": "python",
      "nbconvert_exporter": "python",
      "pygments_lexer": "ipython3",
      "version": "3.8"
    }
  },
  "nbformat_minor": 5,
  "nbformat": 4,
  "cells": [
    {
      "id": "9d7a4f4f-7923-49d0-a9e1-28a6e9bbf151",
      "cell_type": "code",
      "source": "# Assign values\nsecret = 7\nguess = 5\n\n# Conditional test\nif guess < secret:\n    print(\"too low\")\nelif guess > secret:\n    print(\"too high\")\nelse:\n    print(\"just right\")",
      "metadata": {
        "trusted": true
      },
      "outputs": [
        {
          "name": "stdout",
          "output_type": "stream",
          "text": "too low\n"
        }
      ],
      "execution_count": 1
    },
    {
      "id": "4ca6e7ab-c055-4eca-ab3a-0103e8ed1b9a",
      "cell_type": "code",
      "source": "# Assign True or False\nsmall = True\ngreen = True\n\n# Use conditions to match the item\nif small and green:\n    print(\"pea\")\nelif small and not green:\n    print(\"cherry\")\nelif not small and green:\n    print(\"watermelon\")\nelse:\n    print(\"pumpkin\")",
      "metadata": {
        "trusted": true
      },
      "outputs": [
        {
          "name": "stdout",
          "output_type": "stream",
          "text": "pea\n"
        }
      ],
      "execution_count": 3
    },
    {
      "id": "9baf8238-310c-480a-b05b-17707b33302e",
      "cell_type": "code",
      "source": "# List of values\nnumbers = [3, 2, 1, 0]\n\n# For loop to print each value\nfor num in numbers:\n    print(num)",
      "metadata": {
        "trusted": true
      },
      "outputs": [
        {
          "name": "stdout",
          "output_type": "stream",
          "text": "3\n2\n1\n0\n"
        }
      ],
      "execution_count": 2
    },
    {
      "id": "285d6f5d-63b9-496b-8125-9eae2169ed20",
      "cell_type": "code",
      "source": "# Assign values\nguess_me = 7\nnumber = 1\n\n# While loop with conditions\nwhile True:\n    if number < guess_me:\n        print(\"too low\")\n    elif number == guess_me:\n        print(\"found it!\")\n        break\n    else:\n        print(\"oops\")\n        break\n    number += 1",
      "metadata": {
        "trusted": true
      },
      "outputs": [
        {
          "name": "stdout",
          "output_type": "stream",
          "text": "too low\ntoo low\ntoo low\ntoo low\ntoo low\ntoo low\nfound it!\n"
        }
      ],
      "execution_count": 4
    },
    {
      "id": "697d32f6-2aa1-4a11-af7a-3da541df82a6",
      "cell_type": "code",
      "source": "# Assign value\nguess_me = 5\n\n# For loop with conditionals\nfor number in range(10):\n    if number < guess_me:\n        print(\"too low\")\n    elif number == guess_me:\n        print(\"found it!\")\n        break\n    else:\n        print(\"oops\")\n        break",
      "metadata": {
        "trusted": true
      },
      "outputs": [
        {
          "name": "stdout",
          "output_type": "stream",
          "text": "too low\ntoo low\ntoo low\ntoo low\ntoo low\nfound it!\n"
        }
      ],
      "execution_count": 5
    },
    {
      "id": "097d14f3-ff49-4df9-a4fa-5ac36edfcd23",
      "cell_type": "code",
      "source": "",
      "metadata": {
        "trusted": true
      },
      "outputs": [],
      "execution_count": null
    }
  ]
}